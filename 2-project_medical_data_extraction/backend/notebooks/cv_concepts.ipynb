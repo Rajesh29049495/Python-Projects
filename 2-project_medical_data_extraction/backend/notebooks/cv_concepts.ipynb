{
 "cells": [
  {
   "cell_type": "code",
   "execution_count": 1,
   "id": "cf55c19f",
   "metadata": {},
   "outputs": [],
   "source": [
    "import cv2\n",
    "from PIL import Image"
   ]
  },
  {
   "cell_type": "markdown",
   "id": "45ec1d04",
   "metadata": {},
   "source": [
    "`Image` function from `pillow` library. This `PIL` (Python Imaging Library) library is a popular Python library used for opening, manipulating, and saving many different image file formats. In this case, the **Image function** being imported from the PIL library **allows** you to **create Image objects**, which can then be used **to perform various image processing tasks** such as resizing, cropping, filtering, and more."
   ]
  },
  {
   "cell_type": "markdown",
   "id": "c3e2402a",
   "metadata": {},
   "source": [
    "***"
   ]
  },
  {
   "cell_type": "markdown",
   "id": "e738f7f9",
   "metadata": {},
   "source": [
    "Both `Pillow (PIL)` and `OpenCV (cv2)` are **powerful libraries for image processing**, but they have different strengths and weaknesses:\n",
    "\n",
    "**1 Pillow (PIL)**:\n",
    "\n",
    "* Mainly used for **image processing tasks** like opening, manipulating, and saving images.\n",
    "* Provides **extensive support for image formats**, including JPEG, PNG, TIFF, and more.\n",
    "* Suitable for tasks like **resizing, cropping, rotating, and applying various filters to images**.\n",
    "* Supports **basic image transformations and operations.**\n",
    "\n",
    "**2 OpenCV (cv2)**:\n",
    "\n",
    "* Designed for **computer vision tasks** such as object detection, face recognition, and feature extraction.\n",
    "* Optimized for **speed and efficiency**, making it suitable for real-time applications.\n",
    "* **Provides advanced image processing algorithms and functions**, including **edge detection**, **contour detection**, and **morphological operations**.\n",
    "* Offers **support** for **video processing**, **camera calibration**, and **machine learning algorithms**.\n",
    "\n",
    "While both libraries can perform some overlapping tasks, they excel in different areas. **Pillow is more focused on image processing and manipulation, while OpenCV is geared towards computer vision tasks and offers more advanced algorithms and capabilities**. In some cases, developers may choose to use both libraries together to leverage the strengths of each for specific tasks within a project. For **example**, you might **use Pillow to preprocess images before feeding them into an OpenCV-based object detection pipeline.**"
   ]
  },
  {
   "cell_type": "code",
   "execution_count": 2,
   "id": "68a19478",
   "metadata": {},
   "outputs": [
    {
     "data": {
      "text/plain": [
       "array([[206, 206, 206, ..., 185, 185, 185],\n",
       "       [206, 206, 206, ..., 185, 185, 185],\n",
       "       [206, 206, 206, ..., 186, 185, 185],\n",
       "       ...,\n",
       "       [207, 207, 207, ..., 191, 190, 190],\n",
       "       [207, 207, 207, ..., 191, 190, 190],\n",
       "       [207, 207, 207, ..., 191, 191, 190]], dtype=uint8)"
      ]
     },
     "execution_count": 2,
     "metadata": {},
     "output_type": "execute_result"
    }
   ],
   "source": [
    "img = cv2.imread(\"clear_image.jpg\", cv2.IMREAD_GRAYSCALE)             # to read image we use `imread()` function\n",
    "img"
   ]
  },
  {
   "cell_type": "markdown",
   "id": "7159a39f",
   "metadata": {},
   "source": [
    "The `cv2.imread()` function is used to read an image from a file. It takes the path to the image file as input and returns a NumPy array representing the image.\n",
    "\n",
    "The `flag` parameter in `cv2.imread()` is optional and specifies how the image should be read. Here are some commonly used flags:\n",
    "\n",
    "* **`cv2.IMREAD_COLOR`**: This is the default flag and loads the image in color (RGB) format. It ignores the alpha channel if present.\n",
    "* **`cv2.IMREAD_GRAYSCALE`**: Loads the image in grayscale mode{black and white form}. \n",
    "  So that thresholding techniques can be applied}\n",
    "* **`cv2.IMREAD_UNCHANGED`**: Loads the image as is, including the alpha channel if present."
   ]
  },
  {
   "cell_type": "code",
   "execution_count": 3,
   "id": "54af1dc7",
   "metadata": {},
   "outputs": [],
   "source": [
    "# to show the image\n",
    "Image.fromarray(img).show()"
   ]
  },
  {
   "cell_type": "code",
   "execution_count": 5,
   "id": "7da2b1b1",
   "metadata": {},
   "outputs": [
    {
     "data": {
      "text/plain": [
       "(150.0,\n",
       " array([[255, 255, 255, ..., 255, 255, 255],\n",
       "        [255, 255, 255, ..., 255, 255, 255],\n",
       "        [255, 255, 255, ..., 255, 255, 255],\n",
       "        ...,\n",
       "        [255, 255, 255, ..., 255, 255, 255],\n",
       "        [255, 255, 255, ..., 255, 255, 255],\n",
       "        [255, 255, 255, ..., 255, 255, 255]], dtype=uint8))"
      ]
     },
     "execution_count": 5,
     "metadata": {},
     "output_type": "execute_result"
    }
   ],
   "source": [
    "# this line of code converts the input image into a binary image where pixels brighter than a certain threshold value (150 in this case) are set to white, and pixels darker than the threshold are set to black\n",
    "cv2.threshold(img, 150, 255, cv2.THRESH_BINARY)   # `img` is the input image on which thresholding is applied, 150 is the threshold value, 255 is the maximum intensity value, `cv2.THRESH_BINARY` is a thresholding method, which converts teh image into a binary image where pixel valeu is either0(black) or 255(white) based on the threshold."
   ]
  },
  {
   "cell_type": "code",
   "execution_count": 10,
   "id": "d5b61228",
   "metadata": {},
   "outputs": [],
   "source": [
    "# it returns a tuple with first element in it is the threshold value and the second is the array representing binary image\n",
    "_, new_img = cv2.threshold(img, 150, 255, cv2.THRESH_BINARY)  #note: this threhold value is decided using trial and error method\n",
    "Image.fromarray(new_img).show()"
   ]
  },
  {
   "cell_type": "markdown",
   "id": "7aa954d6",
   "metadata": {},
   "source": [
    "Now lets apply the same process to dark_image{the image has shadow}"
   ]
  },
  {
   "cell_type": "code",
   "execution_count": 2,
   "id": "612b3061",
   "metadata": {},
   "outputs": [
    {
     "data": {
      "text/plain": [
       "array([[206, 206, 206, ..., 187, 186, 184],\n",
       "       [206, 206, 206, ..., 186, 185, 185],\n",
       "       [206, 206, 206, ..., 186, 185, 185],\n",
       "       ...,\n",
       "       [162, 157, 152, ..., 184, 184, 184],\n",
       "       [160, 156, 152, ..., 184, 184, 184],\n",
       "       [156, 158, 158, ..., 184, 184, 184]], dtype=uint8)"
      ]
     },
     "execution_count": 2,
     "metadata": {},
     "output_type": "execute_result"
    }
   ],
   "source": [
    "img = cv2.imread(\"dark_image.jpg\", cv2.IMREAD_GRAYSCALE)             # to read image we use `imread()` function\n",
    "img"
   ]
  },
  {
   "cell_type": "code",
   "execution_count": 12,
   "id": "2b4281ad",
   "metadata": {},
   "outputs": [],
   "source": [
    "Image.fromarray(img).show()"
   ]
  },
  {
   "cell_type": "code",
   "execution_count": 13,
   "id": "763fbedc",
   "metadata": {},
   "outputs": [],
   "source": [
    "_, new_img = cv2.threshold(img, 150, 255, cv2.THRESH_BINARY)  #note: this threhold value is decided using trial and error method\n",
    "Image.fromarray(new_img).show()"
   ]
  },
  {
   "cell_type": "markdown",
   "id": "3ecc55a0",
   "metadata": {},
   "source": [
    "Notice the issue, that the region with shadow, all turned black after applying **simple thresholding** technique"
   ]
  },
  {
   "cell_type": "markdown",
   "id": "708e98ae",
   "metadata": {},
   "source": [
    "So, now we will apply **adaptive thresholding** technique"
   ]
  },
  {
   "cell_type": "code",
   "execution_count": 9,
   "id": "ffab569e",
   "metadata": {},
   "outputs": [],
   "source": [
    "new_img = cv2.adaptiveThreshold(\n",
    "    img, 255, \n",
    "    cv2.ADAPTIVE_THRESH_GAUSSIAN_C, \n",
    "    cv2.THRESH_BINARY, \n",
    "    61,\n",
    "    11\n",
    ")\n",
    "Image.fromarray(new_img).show()"
   ]
  },
  {
   "cell_type": "markdown",
   "id": "6e4c6796",
   "metadata": {},
   "source": [
    "Thresholding is a technique used in image processing to separate objects or features from the background. In simple thresholding, you pick a single threshold value to classify pixels as either foreground or background based on their intensity. \n",
    "In many real-world scenarios, images have varying lighting conditions, shadows, or gradients that make it challenging to choose a single threshold value. Adaptive thresholding addresses this issue by adjusting the threshold value locally based on the pixel's surroundings.\n",
    "***\n",
    "***\n",
    "\n",
    "The `cv2.adaptiveThreshold()` function computes adaptive thresholds for each pixel based on its local neighborhood.\n",
    "######  1. `img`: \n",
    "The input image on which adaptive thresholding is applied.\n",
    "######  2. `255`: \n",
    "The maximum pixel intensity value that can be assigned to a pixel.\n",
    "######  3. `cv2.ADAPTIVE_THRESH_GAUSSIAN_C`: \n",
    "This method calculates the threshold for each pixel based on a weighted sum of the local neighborhood values using a Gaussian window. {first it calculates the weighted sum of the local neighborhood values using a Gaussian window then subtracts a constant value(`C`) from it to obtain the local threshold}\n",
    "***\n",
    "The alternatives to `cv2.ADAPTIVE_THRESH_GAUSSIAN_C` for adaptive thresholding in OpenCV are:\n",
    "\n",
    "* `cv2.ADAPTIVE_THRESH_MEAN_C`: This method computes the mean of the neighborhood area and subtracts a constant value (`C`) from it to obtain the local threshold.\n",
    "\n",
    "* `cv2.ADAPTIVE_THRESH_MEDIAN_C`: This method computes the median of the neighborhood area and subtracts a constant value (`C`) from it to obtain the local threshold.\n",
    "\n",
    "These methods offer different ways to calculate the local threshold for adaptive thresholding based on the neighborhood pixels.\n",
    "\n",
    "**which method to choose:**\n",
    "##### a. `Mean Adaptive Thresholding (cv2.ADAPTIVE_THRESH_MEAN_C)`:\n",
    "\n",
    "* Use for images with uniform background and consistent illumination.\n",
    "* Best for Gaussian noise or relatively smooth images.\n",
    "\n",
    "##### b. `Gaussian Adaptive Thresholding (cv2.ADAPTIVE_THRESH_GAUSSIAN_C)`:\n",
    "\n",
    "* Ideal for images with varying illumination or non-uniform backgrounds.\n",
    "* Effective for images with shadows or uneven lighting.\n",
    "\n",
    "##### c. `Median Adaptive Thresholding (cv2.ADAPTIVE_THRESH_MEDIAN_C)`:\n",
    "\n",
    "* Suitable for images with impulsive noise like salt-and-pepper noise.\n",
    "* Works well when outliers significantly affect the mean value.\n",
    "\n",
    "Choose the method based on the characteristics of your image and the type of noise present. If the noise is Gaussian-like, go for the Gaussian method. For impulsive noise or outliers, opt for the median method. Otherwise, the mean method serves as a good general-purpose approach.\n",
    "\n",
    "{{{\n",
    "* `Gaussian Noise`: Imagine a light sprinkle of dust or fog over your photo, making it slightly blurry or hazy. Gaussian noise adds a subtle, uniform distortion across the entire image, like looking through a misty window.\n",
    "\n",
    "* `Salt and Pepper Noise`: Picture your photo with random black and white specks scattered throughout, like grains of salt and pepper on a surface. Salt and pepper noise creates sudden, isolated spots of extreme brightness (salt) or darkness (pepper) in your image, akin to having tiny, random dots or spots.\n",
    "}}}\n",
    "***\n",
    "######  4. `cv2.THRESH_BINARY`: \n",
    "Specifies that pixels with intensity values above the calculated threshold are set to the maximum value (255), and pixels below the threshold are set to 0.\n",
    "######  5.  `61`: \n",
    "The size of the pixel neighborhood used to calculate the adaptive threshold. It must be an odd number and represents the size of the window around each pixel.\n",
    "######  6.  `11`: \n",
    "The constant subtracted from the mean or weighted mean to calculate the adaptive threshold for each pixel.\n",
    "\n",
    "Putting it all together, in the above case, the cv2.adaptiveThreshold() function computes adaptive thresholds for each pixel based on its local neighborhood. It uses a Gaussian-weighted mean to calculate these thresholds, then applies a binary thresholding operation to classify pixels as either foreground (white) or background (black) based on their intensity relative to the computed threshold.\n",
    "\n",
    "***Note**: The value at 5th and 6th point are decided on trial and error basis then choose the best one.*"
   ]
  },
  {
   "cell_type": "code",
   "execution_count": null,
   "id": "42f6fcc6",
   "metadata": {},
   "outputs": [],
   "source": []
  }
 ],
 "metadata": {
  "kernelspec": {
   "display_name": "Python 3 (ipykernel)",
   "language": "python",
   "name": "python3"
  },
  "language_info": {
   "codemirror_mode": {
    "name": "ipython",
    "version": 3
   },
   "file_extension": ".py",
   "mimetype": "text/x-python",
   "name": "python",
   "nbconvert_exporter": "python",
   "pygments_lexer": "ipython3",
   "version": "3.11.5"
  }
 },
 "nbformat": 4,
 "nbformat_minor": 5
}
